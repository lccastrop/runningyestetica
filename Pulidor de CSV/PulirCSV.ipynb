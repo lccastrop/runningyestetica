{
 "cells": [
  {
   "cell_type": "code",
   "execution_count": 12,
   "id": "da4cd7ea",
   "metadata": {},
   "outputs": [
    {
     "name": "stderr",
     "output_type": "stream",
     "text": [
      "C:\\Users\\lccas\\AppData\\Local\\Temp\\ipykernel_1720\\3117209747.py:5: DtypeWarning: Columns (0) have mixed types. Specify dtype option on import or set low_memory=False.\n",
      "  df = pd.read_csv(\"MMB_21K_2025_raw.csv\")\n"
     ]
    }
   ],
   "source": [
    "import pandas as pd\n",
    "import ast\n",
    "\n",
    "# Cargar CSV\n",
    "df = pd.read_csv(\"MMB_21K_2025_raw.csv\")\n",
    "\n",
    "# Asegurar que 'calculatedTimes' no tenga nulos\n",
    "df = df[df['calculatedTimes'].notna()]\n",
    "\n",
    "# Convertir 'calculatedTimes' a diccionario\n",
    "df['calculatedTimes'] = df['calculatedTimes'].apply(ast.literal_eval)\n",
    "\n",
    "# Extraer tiempo chip desde el campo Meta.net (milisegundos)\n",
    "df['tiempo_chip_ms'] = df['calculatedTimes'].apply(lambda x: x.get('Meta', {}).get('net'))\n",
    "\n",
    "# Convertir a segundos\n",
    "df['tiempo_chip_seg'] = df['tiempo_chip_ms'] / 1000\n",
    "\n",
    "# Convertir a formato hh:mm:ss (si lo quieres conservar)\n",
    "df['tiempo_chip_str'] = pd.to_timedelta(df['tiempo_chip_ms'], unit='ms')\n",
    "\n",
    "# Convertir 'custom-rankings' a lista de diccionarios\n",
    "df['custom-rankings'] = df['custom-rankings'].apply(lambda x: ast.literal_eval(x) if isinstance(x, str) and x.startswith(\"[{\") else [])\n",
    "\n",
    "# Extraer la categoría desde custom-rankings\n",
    "def extraer_categoria_custom(rankings):\n",
    "    for item in rankings:\n",
    "        if isinstance(item, dict) and item.get(\"type\") == \"category\":\n",
    "            return item.get(\"type-value\")\n",
    "    return None\n",
    "\n",
    "df['categoria'] = df['custom-rankings'].apply(extraer_categoria_custom)\n",
    "\n",
    "# Filtrar y renombrar columnas\n",
    "df_final = df[[\n",
    "    'fullName',\n",
    "    'gender',\n",
    "    'dorsal',\n",
    "    'tiempo_chip_seg',\n",
    "    'tiempo_chip_ms',\n",
    "    'categoria',\n",
    "    'gunTime'\n",
    "]].rename(columns={\n",
    "    'fullName': 'Nombre',\n",
    "    'gender': 'Genero',\n",
    "    'dorsal': 'BIB',\n",
    "    'tiempo_chip_seg': 'Tiempo Chip',\n",
    "    'tiempo_chip_ms': 'Paso medio',\n",
    "    'categoria': 'Categoria',\n",
    "    'gunTime': 'Tiempo Oficial'\n",
    "})\n",
    "\n",
    "# Exportar a nuevo CSV\n",
    "df_final.to_csv(\"mmb2024_procesado.csv\", index=False)\n"
   ]
  }
 ],
 "metadata": {
  "kernelspec": {
   "display_name": "Python 3",
   "language": "python",
   "name": "python3"
  },
  "language_info": {
   "codemirror_mode": {
    "name": "ipython",
    "version": 3
   },
   "file_extension": ".py",
   "mimetype": "text/x-python",
   "name": "python",
   "nbconvert_exporter": "python",
   "pygments_lexer": "ipython3",
   "version": "3.11.6"
  }
 },
 "nbformat": 4,
 "nbformat_minor": 5
}
