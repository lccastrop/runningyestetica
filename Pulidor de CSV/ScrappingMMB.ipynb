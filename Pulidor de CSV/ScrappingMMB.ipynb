{
 "cells": [
  {
   "cell_type": "code",
   "execution_count": 2,
   "id": "7590c984",
   "metadata": {},
   "outputs": [
    {
     "name": "stdout",
     "output_type": "stream",
     "text": [
      "Index(['id', 'name', 'surname', 'gender', 'featured', 'user_id', 'locations',\n",
      "       'fullName', 'eventNames', 'dorsal', 'chip', 'event', 'team',\n",
      "       'team_type', 'attributes', 'gunTime', 'gunTimeMode',\n",
      "       'gunTimeModeConfig', 'auto_category', 'auto_chip', 'status',\n",
      "       'realStatus', 'startTime', 'startRawTime', 'startNetTime', 'distance',\n",
      "       'leader_weight', 'maxConsecutiveSplitsMissing', 'splitsMissing',\n",
      "       'issuesCount', 'splitsSeen', 'last_split_seen', 'times', 'rankings',\n",
      "       'leader', 'calculatedTimes', 'commentatorTimes', 'predictive',\n",
      "       'backups', 'mst', 'commentator', 'penalties', 'waveTime', 'wave',\n",
      "       'custom-rankings'],\n",
      "      dtype='object')\n"
     ]
    }
   ],
   "source": [
    "import requests\n",
    "import pandas as pd\n",
    "\n",
    "# URL del JSON\n",
    "url = \"https://rankings-storage.timingsense.cloud/prod/competitions/6623d03d-0f4c-4f5e-81d9-4d4dac1f1551/21K/participants.json\"\n",
    "\n",
    "# Descargar y convertir\n",
    "response = requests.get(url)\n",
    "data = response.json()\n",
    "\n",
    "# Crear DataFrame directamente\n",
    "df = pd.DataFrame(data)\n",
    "\n",
    "# Ver columnas disponibles\n",
    "print(df.columns)\n",
    "\n",
    "# Guardar a CSV\n",
    "df.to_csv(\"MMB_21K_2025_raw.csv\", index=False, encoding='utf-8-sig')\n",
    "\n"
   ]
  }
 ],
 "metadata": {
  "kernelspec": {
   "display_name": "Python 3",
   "language": "python",
   "name": "python3"
  },
  "language_info": {
   "codemirror_mode": {
    "name": "ipython",
    "version": 3
   },
   "file_extension": ".py",
   "mimetype": "text/x-python",
   "name": "python",
   "nbconvert_exporter": "python",
   "pygments_lexer": "ipython3",
   "version": "3.11.6"
  }
 },
 "nbformat": 4,
 "nbformat_minor": 5
}
